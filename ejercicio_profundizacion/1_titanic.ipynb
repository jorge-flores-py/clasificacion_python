{
 "cells": [
  {
   "cell_type": "markdown",
   "metadata": {
    "id": "67RBrvkUviuj"
   },
   "source": [
    "<a href=\"https://www.inove.com.ar\"><img src=\"https://raw.githubusercontent.com/InoveAlumnos/dataset_analytics_python/master/images/PA%20Banner.png\" width=\"1000\" align=\"center\"></a>\n",
    "\n",
    "\n",
    "# Ejercicio de clasificación con titanic dataset\n",
    "\n",
    "Ejemplo de clasificación utilizando el dataset de titanic<br>\n",
    "\n",
    "v1.1"
   ]
  },
  {
   "cell_type": "code",
   "execution_count": 3,
   "metadata": {
    "executionInfo": {
     "elapsed": 2860,
     "status": "ok",
     "timestamp": 1604367410873,
     "user": {
      "displayName": "inove",
      "photoUrl": "https://lh3.googleusercontent.com/a-/AOh14GhXN9lpkKFLA5gp8tW9cD3CZ1yGa9DUy9HZOgZm=s64",
      "userId": "03494171924251581304"
     },
     "user_tz": 180
    },
    "id": "y2sSeyEovSw-"
   },
   "outputs": [],
   "source": [
    "import os\n",
    "import platform\n",
    "\n",
    "import numpy as np\n",
    "import matplotlib.pyplot as plt\n",
    "import seaborn as sns\n",
    "import pandas as pd"
   ]
  },
  {
   "cell_type": "markdown",
   "metadata": {
    "id": "7Szo7P_3v00C"
   },
   "source": [
    "# Recolectar datos\n",
    "<img src=\"https://raw.githubusercontent.com/InoveAlumnos/dataset_analytics_python/master/images/Pipeline1.png\" width=\"1000\" align=\"middle\">"
   ]
  },
  {
   "cell_type": "code",
   "execution_count": 4,
   "metadata": {
    "colab": {
     "base_uri": "https://localhost:8080/"
    },
    "executionInfo": {
     "elapsed": 1207,
     "status": "ok",
     "timestamp": 1604367403459,
     "user": {
      "displayName": "inove",
      "photoUrl": "https://lh3.googleusercontent.com/a-/AOh14GhXN9lpkKFLA5gp8tW9cD3CZ1yGa9DUy9HZOgZm=s64",
      "userId": "03494171924251581304"
     },
     "user_tz": 180
    },
    "id": "HnVpNGuAvyFi",
    "outputId": "e723445f-962c-40b3-b131-338f1a9a8f86"
   },
   "outputs": [
    {
     "name": "stderr",
     "output_type": "stream",
     "text": [
      "  % Total    % Received % Xferd  Average Speed   Time    Time     Time  Current\n",
      "                                 Dload  Upload   Total   Spent    Left  Speed\n",
      "\n",
      "  0     0    0     0    0     0      0      0 --:--:-- --:--:-- --:--:--     0\n",
      "100 61194  100 61194    0     0   306k      0 --:--:-- --:--:-- --:--:--  311k\n"
     ]
    }
   ],
   "source": [
    "if os.access('titanic.csv', os.F_OK) is False:\n",
    "    if platform.system() == 'Windows':\n",
    "        !curl -k https://raw.githubusercontent.com/InoveAlumnos/dataset_analytics_python/master/titanic.csv > titanic.csv\n",
    "    else:\n",
    "        !wget titanic.csv https://raw.githubusercontent.com/InoveAlumnos/dataset_analytics_python/master/titanic.csv"
   ]
  },
  {
   "cell_type": "markdown",
   "metadata": {
    "id": "BbNSgxdfw0ix"
   },
   "source": [
    "### `titanic.csv`:\n",
    "El dataset **`titanic.csv`** contiene datos sobre los pasajeros que estuvieron en el titanic y si finalmente sobrevivieron o nó al viaje.<br>\n",
    "- **Passengerid** --> id del pasajero, ejemplo 5\n",
    "- **Survived** --> sobrevivió? 1(Si), 0(No)\n",
    "- **Pclass** --> clase (1, 2, 3)\n",
    "- **Name** --> nombre\n",
    "- **Sex** --> genero, ejemplo male(masculino), female(femenino)\n",
    "- **Age** --> edad\n",
    "- **Siblings** --> Hermanos y esposas/esposos abordo\n",
    "- **Parch** --> Hijos abordo\n",
    "- **Ticket** --> Nº de ticket\n",
    "- **Fare** --> tarifa del ticket\n",
    "- **Cabine** --> Nº de cabina\n",
    "- **Embarked** --> Puerto de embarque (C = Cherbourg; Q = Queenstown; S = Southampton)\n"
   ]
  },
  {
   "cell_type": "markdown",
   "metadata": {
    "id": "NHHsGe1Qypde"
   },
   "source": [
    "# Procesar datos\n",
    "<img src=\"https://raw.githubusercontent.com/InoveAlumnos/dataset_analytics_python/master/images/Pipeline2.png\" width=\"1000\" align=\"middle\">"
   ]
  },
  {
   "cell_type": "code",
   "execution_count": 5,
   "metadata": {
    "colab": {
     "base_uri": "https://localhost:8080/",
     "height": 348
    },
    "executionInfo": {
     "elapsed": 885,
     "status": "ok",
     "timestamp": 1604368764294,
     "user": {
      "displayName": "inove",
      "photoUrl": "https://lh3.googleusercontent.com/a-/AOh14GhXN9lpkKFLA5gp8tW9cD3CZ1yGa9DUy9HZOgZm=s64",
      "userId": "03494171924251581304"
     },
     "user_tz": 180
    },
    "id": "uvzaKBMbyoiy",
    "outputId": "3869ff31-0201-459c-e965-189420546b17"
   },
   "outputs": [
    {
     "data": {
      "text/html": [
       "<div>\n",
       "<style scoped>\n",
       "    .dataframe tbody tr th:only-of-type {\n",
       "        vertical-align: middle;\n",
       "    }\n",
       "\n",
       "    .dataframe tbody tr th {\n",
       "        vertical-align: top;\n",
       "    }\n",
       "\n",
       "    .dataframe thead th {\n",
       "        text-align: right;\n",
       "    }\n",
       "</style>\n",
       "<table border=\"1\" class=\"dataframe\">\n",
       "  <thead>\n",
       "    <tr style=\"text-align: right;\">\n",
       "      <th></th>\n",
       "      <th>PassengerId</th>\n",
       "      <th>Survived</th>\n",
       "      <th>Pclass</th>\n",
       "      <th>Age</th>\n",
       "      <th>SibSp</th>\n",
       "      <th>Parch</th>\n",
       "      <th>Fare</th>\n",
       "    </tr>\n",
       "  </thead>\n",
       "  <tbody>\n",
       "    <tr>\n",
       "      <th>count</th>\n",
       "      <td>891.000000</td>\n",
       "      <td>891.000000</td>\n",
       "      <td>891.000000</td>\n",
       "      <td>714.000000</td>\n",
       "      <td>891.000000</td>\n",
       "      <td>891.000000</td>\n",
       "      <td>891.000000</td>\n",
       "    </tr>\n",
       "    <tr>\n",
       "      <th>mean</th>\n",
       "      <td>446.000000</td>\n",
       "      <td>0.383838</td>\n",
       "      <td>2.308642</td>\n",
       "      <td>29.699118</td>\n",
       "      <td>0.523008</td>\n",
       "      <td>0.381594</td>\n",
       "      <td>32.204208</td>\n",
       "    </tr>\n",
       "    <tr>\n",
       "      <th>std</th>\n",
       "      <td>257.353842</td>\n",
       "      <td>0.486592</td>\n",
       "      <td>0.836071</td>\n",
       "      <td>14.526497</td>\n",
       "      <td>1.102743</td>\n",
       "      <td>0.806057</td>\n",
       "      <td>49.693429</td>\n",
       "    </tr>\n",
       "    <tr>\n",
       "      <th>min</th>\n",
       "      <td>1.000000</td>\n",
       "      <td>0.000000</td>\n",
       "      <td>1.000000</td>\n",
       "      <td>0.420000</td>\n",
       "      <td>0.000000</td>\n",
       "      <td>0.000000</td>\n",
       "      <td>0.000000</td>\n",
       "    </tr>\n",
       "    <tr>\n",
       "      <th>25%</th>\n",
       "      <td>223.500000</td>\n",
       "      <td>0.000000</td>\n",
       "      <td>2.000000</td>\n",
       "      <td>20.125000</td>\n",
       "      <td>0.000000</td>\n",
       "      <td>0.000000</td>\n",
       "      <td>7.910400</td>\n",
       "    </tr>\n",
       "    <tr>\n",
       "      <th>50%</th>\n",
       "      <td>446.000000</td>\n",
       "      <td>0.000000</td>\n",
       "      <td>3.000000</td>\n",
       "      <td>28.000000</td>\n",
       "      <td>0.000000</td>\n",
       "      <td>0.000000</td>\n",
       "      <td>14.454200</td>\n",
       "    </tr>\n",
       "    <tr>\n",
       "      <th>75%</th>\n",
       "      <td>668.500000</td>\n",
       "      <td>1.000000</td>\n",
       "      <td>3.000000</td>\n",
       "      <td>38.000000</td>\n",
       "      <td>1.000000</td>\n",
       "      <td>0.000000</td>\n",
       "      <td>31.000000</td>\n",
       "    </tr>\n",
       "    <tr>\n",
       "      <th>max</th>\n",
       "      <td>891.000000</td>\n",
       "      <td>1.000000</td>\n",
       "      <td>3.000000</td>\n",
       "      <td>80.000000</td>\n",
       "      <td>8.000000</td>\n",
       "      <td>6.000000</td>\n",
       "      <td>512.329200</td>\n",
       "    </tr>\n",
       "    <tr>\n",
       "      <th>Nan</th>\n",
       "      <td>0.000000</td>\n",
       "      <td>0.000000</td>\n",
       "      <td>0.000000</td>\n",
       "      <td>177.000000</td>\n",
       "      <td>0.000000</td>\n",
       "      <td>0.000000</td>\n",
       "      <td>0.000000</td>\n",
       "    </tr>\n",
       "    <tr>\n",
       "      <th>%Nan</th>\n",
       "      <td>0.000000</td>\n",
       "      <td>0.000000</td>\n",
       "      <td>0.000000</td>\n",
       "      <td>19.865320</td>\n",
       "      <td>0.000000</td>\n",
       "      <td>0.000000</td>\n",
       "      <td>0.000000</td>\n",
       "    </tr>\n",
       "  </tbody>\n",
       "</table>\n",
       "</div>"
      ],
      "text/plain": [
       "       PassengerId    Survived      Pclass         Age       SibSp   \n",
       "count   891.000000  891.000000  891.000000  714.000000  891.000000  \\\n",
       "mean    446.000000    0.383838    2.308642   29.699118    0.523008   \n",
       "std     257.353842    0.486592    0.836071   14.526497    1.102743   \n",
       "min       1.000000    0.000000    1.000000    0.420000    0.000000   \n",
       "25%     223.500000    0.000000    2.000000   20.125000    0.000000   \n",
       "50%     446.000000    0.000000    3.000000   28.000000    0.000000   \n",
       "75%     668.500000    1.000000    3.000000   38.000000    1.000000   \n",
       "max     891.000000    1.000000    3.000000   80.000000    8.000000   \n",
       "Nan       0.000000    0.000000    0.000000  177.000000    0.000000   \n",
       "%Nan      0.000000    0.000000    0.000000   19.865320    0.000000   \n",
       "\n",
       "            Parch        Fare  \n",
       "count  891.000000  891.000000  \n",
       "mean     0.381594   32.204208  \n",
       "std      0.806057   49.693429  \n",
       "min      0.000000    0.000000  \n",
       "25%      0.000000    7.910400  \n",
       "50%      0.000000   14.454200  \n",
       "75%      0.000000   31.000000  \n",
       "max      6.000000  512.329200  \n",
       "Nan      0.000000    0.000000  \n",
       "%Nan     0.000000    0.000000  "
      ]
     },
     "execution_count": 5,
     "metadata": {},
     "output_type": "execute_result"
    }
   ],
   "source": [
    "# Alumno, realice una inspeccion del dataset en búsqueda de elementos faltantes\n",
    "df = pd.read_csv(\"titanic.csv\")\n",
    "des = df.describe()\n",
    "des.loc['Nan'] = df.isna().sum()\n",
    "des.loc['%Nan'] = (df.isna().mean())*100\n",
    "des"
   ]
  },
  {
   "cell_type": "code",
   "execution_count": 6,
   "metadata": {
    "colab": {
     "base_uri": "https://localhost:8080/",
     "height": 198
    },
    "executionInfo": {
     "elapsed": 721,
     "status": "ok",
     "timestamp": 1604368765484,
     "user": {
      "displayName": "inove",
      "photoUrl": "https://lh3.googleusercontent.com/a-/AOh14GhXN9lpkKFLA5gp8tW9cD3CZ1yGa9DUy9HZOgZm=s64",
      "userId": "03494171924251581304"
     },
     "user_tz": 180
    },
    "id": "Cw9HbE88y3wu",
    "outputId": "5033e0db-c6b4-4d6b-e0bd-e3b3fa6ac8dd"
   },
   "outputs": [
    {
     "data": {
      "text/html": [
       "<div>\n",
       "<style scoped>\n",
       "    .dataframe tbody tr th:only-of-type {\n",
       "        vertical-align: middle;\n",
       "    }\n",
       "\n",
       "    .dataframe tbody tr th {\n",
       "        vertical-align: top;\n",
       "    }\n",
       "\n",
       "    .dataframe thead th {\n",
       "        text-align: right;\n",
       "    }\n",
       "</style>\n",
       "<table border=\"1\" class=\"dataframe\">\n",
       "  <thead>\n",
       "    <tr style=\"text-align: right;\">\n",
       "      <th></th>\n",
       "      <th>PassengerId</th>\n",
       "      <th>Survived</th>\n",
       "      <th>Pclass</th>\n",
       "      <th>Name</th>\n",
       "      <th>Sex</th>\n",
       "      <th>Age</th>\n",
       "      <th>SibSp</th>\n",
       "      <th>Parch</th>\n",
       "      <th>Ticket</th>\n",
       "      <th>Fare</th>\n",
       "      <th>Cabin</th>\n",
       "      <th>Embarked</th>\n",
       "    </tr>\n",
       "  </thead>\n",
       "  <tbody>\n",
       "    <tr>\n",
       "      <th>0</th>\n",
       "      <td>1</td>\n",
       "      <td>0</td>\n",
       "      <td>3</td>\n",
       "      <td>Braund, Mr. Owen Harris</td>\n",
       "      <td>male</td>\n",
       "      <td>22.0</td>\n",
       "      <td>1</td>\n",
       "      <td>0</td>\n",
       "      <td>A/5 21171</td>\n",
       "      <td>7.2500</td>\n",
       "      <td>NaN</td>\n",
       "      <td>S</td>\n",
       "    </tr>\n",
       "    <tr>\n",
       "      <th>1</th>\n",
       "      <td>2</td>\n",
       "      <td>1</td>\n",
       "      <td>1</td>\n",
       "      <td>Cumings, Mrs. John Bradley (Florence Briggs Th...</td>\n",
       "      <td>female</td>\n",
       "      <td>38.0</td>\n",
       "      <td>1</td>\n",
       "      <td>0</td>\n",
       "      <td>PC 17599</td>\n",
       "      <td>71.2833</td>\n",
       "      <td>C85</td>\n",
       "      <td>C</td>\n",
       "    </tr>\n",
       "    <tr>\n",
       "      <th>2</th>\n",
       "      <td>3</td>\n",
       "      <td>1</td>\n",
       "      <td>3</td>\n",
       "      <td>Heikkinen, Miss. Laina</td>\n",
       "      <td>female</td>\n",
       "      <td>26.0</td>\n",
       "      <td>0</td>\n",
       "      <td>0</td>\n",
       "      <td>STON/O2. 3101282</td>\n",
       "      <td>7.9250</td>\n",
       "      <td>NaN</td>\n",
       "      <td>S</td>\n",
       "    </tr>\n",
       "    <tr>\n",
       "      <th>3</th>\n",
       "      <td>4</td>\n",
       "      <td>1</td>\n",
       "      <td>1</td>\n",
       "      <td>Futrelle, Mrs. Jacques Heath (Lily May Peel)</td>\n",
       "      <td>female</td>\n",
       "      <td>35.0</td>\n",
       "      <td>1</td>\n",
       "      <td>0</td>\n",
       "      <td>113803</td>\n",
       "      <td>53.1000</td>\n",
       "      <td>C123</td>\n",
       "      <td>S</td>\n",
       "    </tr>\n",
       "    <tr>\n",
       "      <th>4</th>\n",
       "      <td>5</td>\n",
       "      <td>0</td>\n",
       "      <td>3</td>\n",
       "      <td>Allen, Mr. William Henry</td>\n",
       "      <td>male</td>\n",
       "      <td>35.0</td>\n",
       "      <td>0</td>\n",
       "      <td>0</td>\n",
       "      <td>373450</td>\n",
       "      <td>8.0500</td>\n",
       "      <td>NaN</td>\n",
       "      <td>S</td>\n",
       "    </tr>\n",
       "  </tbody>\n",
       "</table>\n",
       "</div>"
      ],
      "text/plain": [
       "   PassengerId  Survived  Pclass   \n",
       "0            1         0       3  \\\n",
       "1            2         1       1   \n",
       "2            3         1       3   \n",
       "3            4         1       1   \n",
       "4            5         0       3   \n",
       "\n",
       "                                                Name     Sex   Age  SibSp   \n",
       "0                            Braund, Mr. Owen Harris    male  22.0      1  \\\n",
       "1  Cumings, Mrs. John Bradley (Florence Briggs Th...  female  38.0      1   \n",
       "2                             Heikkinen, Miss. Laina  female  26.0      0   \n",
       "3       Futrelle, Mrs. Jacques Heath (Lily May Peel)  female  35.0      1   \n",
       "4                           Allen, Mr. William Henry    male  35.0      0   \n",
       "\n",
       "   Parch            Ticket     Fare Cabin Embarked  \n",
       "0      0         A/5 21171   7.2500   NaN        S  \n",
       "1      0          PC 17599  71.2833   C85        C  \n",
       "2      0  STON/O2. 3101282   7.9250   NaN        S  \n",
       "3      0            113803  53.1000  C123        S  \n",
       "4      0            373450   8.0500   NaN        S  "
      ]
     },
     "execution_count": 6,
     "metadata": {},
     "output_type": "execute_result"
    }
   ],
   "source": [
    "# Alumno, inspeccione el dataset, visualice las columnas que posee y sus primeras filas\n",
    "df.head(5)"
   ]
  },
  {
   "cell_type": "code",
   "execution_count": 7,
   "metadata": {
    "executionInfo": {
     "elapsed": 910,
     "status": "ok",
     "timestamp": 1604368856721,
     "user": {
      "displayName": "inove",
      "photoUrl": "https://lh3.googleusercontent.com/a-/AOh14GhXN9lpkKFLA5gp8tW9cD3CZ1yGa9DUy9HZOgZm=s64",
      "userId": "03494171924251581304"
     },
     "user_tz": 180
    },
    "id": "9g4_cql61J5m"
   },
   "outputs": [],
   "source": [
    "# Alumno, del dataset original cree uno nuevo pero\n",
    "# unicamente con las siguientes columnas:\n",
    "# Survived, Pclass, Sex, Age, SibSp, Parch\n",
    "\n",
    "df2 = df[['Survived', 'Pclass', 'Sex', 'Age', 'SibSp', 'Parch']]"
   ]
  },
  {
   "cell_type": "code",
   "execution_count": 8,
   "metadata": {},
   "outputs": [
    {
     "data": {
      "text/html": [
       "<div>\n",
       "<style scoped>\n",
       "    .dataframe tbody tr th:only-of-type {\n",
       "        vertical-align: middle;\n",
       "    }\n",
       "\n",
       "    .dataframe tbody tr th {\n",
       "        vertical-align: top;\n",
       "    }\n",
       "\n",
       "    .dataframe thead th {\n",
       "        text-align: right;\n",
       "    }\n",
       "</style>\n",
       "<table border=\"1\" class=\"dataframe\">\n",
       "  <thead>\n",
       "    <tr style=\"text-align: right;\">\n",
       "      <th></th>\n",
       "      <th>Survived</th>\n",
       "      <th>Pclass</th>\n",
       "      <th>Sex</th>\n",
       "      <th>Age</th>\n",
       "      <th>SibSp</th>\n",
       "      <th>Parch</th>\n",
       "    </tr>\n",
       "  </thead>\n",
       "  <tbody>\n",
       "    <tr>\n",
       "      <th>0</th>\n",
       "      <td>0</td>\n",
       "      <td>3</td>\n",
       "      <td>male</td>\n",
       "      <td>22.0</td>\n",
       "      <td>1</td>\n",
       "      <td>0</td>\n",
       "    </tr>\n",
       "    <tr>\n",
       "      <th>1</th>\n",
       "      <td>1</td>\n",
       "      <td>1</td>\n",
       "      <td>female</td>\n",
       "      <td>38.0</td>\n",
       "      <td>1</td>\n",
       "      <td>0</td>\n",
       "    </tr>\n",
       "    <tr>\n",
       "      <th>2</th>\n",
       "      <td>1</td>\n",
       "      <td>3</td>\n",
       "      <td>female</td>\n",
       "      <td>26.0</td>\n",
       "      <td>0</td>\n",
       "      <td>0</td>\n",
       "    </tr>\n",
       "  </tbody>\n",
       "</table>\n",
       "</div>"
      ],
      "text/plain": [
       "   Survived  Pclass     Sex   Age  SibSp  Parch\n",
       "0         0       3    male  22.0      1      0\n",
       "1         1       1  female  38.0      1      0\n",
       "2         1       3  female  26.0      0      0"
      ]
     },
     "execution_count": 8,
     "metadata": {},
     "output_type": "execute_result"
    }
   ],
   "source": [
    "df2.head(3)"
   ]
  },
  {
   "cell_type": "code",
   "execution_count": 9,
   "metadata": {
    "executionInfo": {
     "elapsed": 716,
     "status": "ok",
     "timestamp": 1604368869499,
     "user": {
      "displayName": "inove",
      "photoUrl": "https://lh3.googleusercontent.com/a-/AOh14GhXN9lpkKFLA5gp8tW9cD3CZ1yGa9DUy9HZOgZm=s64",
      "userId": "03494171924251581304"
     },
     "user_tz": 180
    },
    "id": "aPr3AkXM1DkO"
   },
   "outputs": [],
   "source": [
    "# Alumno, elimine aquellas filas que tengan columnas vacias\n",
    "df2 = df2.dropna()"
   ]
  },
  {
   "cell_type": "code",
   "execution_count": 11,
   "metadata": {
    "colab": {
     "base_uri": "https://localhost:8080/"
    },
    "executionInfo": {
     "elapsed": 709,
     "status": "ok",
     "timestamp": 1604368871546,
     "user": {
      "displayName": "inove",
      "photoUrl": "https://lh3.googleusercontent.com/a-/AOh14GhXN9lpkKFLA5gp8tW9cD3CZ1yGa9DUy9HZOgZm=s64",
      "userId": "03494171924251581304"
     },
     "user_tz": 180
    },
    "id": "LirgXKpiy8dr",
    "outputId": "6774419e-7435-423b-c41d-5dd56d4de80d"
   },
   "outputs": [
    {
     "data": {
      "text/plain": [
       "714"
      ]
     },
     "execution_count": 11,
     "metadata": {},
     "output_type": "execute_result"
    }
   ],
   "source": [
    "# Fin de la limpieza, alumno especifique cuantas filas se poseen para analizar\n",
    "df2.shape[0]"
   ]
  },
  {
   "cell_type": "markdown",
   "metadata": {
    "id": "0BnzYdlRzBxz"
   },
   "source": [
    "# Explorar datos\n",
    "<img src=\"https://raw.githubusercontent.com/InoveAlumnos/dataset_analytics_python/master/images/Pipeline3.png\" width=\"1000\" align=\"middle\">"
   ]
  },
  {
   "cell_type": "code",
   "execution_count": 13,
   "metadata": {
    "colab": {
     "base_uri": "https://localhost:8080/",
     "height": 198
    },
    "executionInfo": {
     "elapsed": 881,
     "status": "ok",
     "timestamp": 1604368978180,
     "user": {
      "displayName": "inove",
      "photoUrl": "https://lh3.googleusercontent.com/a-/AOh14GhXN9lpkKFLA5gp8tW9cD3CZ1yGa9DUy9HZOgZm=s64",
      "userId": "03494171924251581304"
     },
     "user_tz": 180
    },
    "id": "ujLgPJYo18IR",
    "outputId": "b3287f53-6cd2-4954-88a5-ada18185eddd"
   },
   "outputs": [
    {
     "data": {
      "text/html": [
       "<div>\n",
       "<style scoped>\n",
       "    .dataframe tbody tr th:only-of-type {\n",
       "        vertical-align: middle;\n",
       "    }\n",
       "\n",
       "    .dataframe tbody tr th {\n",
       "        vertical-align: top;\n",
       "    }\n",
       "\n",
       "    .dataframe thead th {\n",
       "        text-align: right;\n",
       "    }\n",
       "</style>\n",
       "<table border=\"1\" class=\"dataframe\">\n",
       "  <thead>\n",
       "    <tr style=\"text-align: right;\">\n",
       "      <th></th>\n",
       "      <th>Survived</th>\n",
       "      <th>Pclass</th>\n",
       "      <th>Sex</th>\n",
       "      <th>Age</th>\n",
       "      <th>SibSp</th>\n",
       "      <th>Parch</th>\n",
       "    </tr>\n",
       "  </thead>\n",
       "  <tbody>\n",
       "    <tr>\n",
       "      <th>0</th>\n",
       "      <td>0</td>\n",
       "      <td>3</td>\n",
       "      <td>male</td>\n",
       "      <td>22.0</td>\n",
       "      <td>1</td>\n",
       "      <td>0</td>\n",
       "    </tr>\n",
       "    <tr>\n",
       "      <th>1</th>\n",
       "      <td>1</td>\n",
       "      <td>1</td>\n",
       "      <td>female</td>\n",
       "      <td>38.0</td>\n",
       "      <td>1</td>\n",
       "      <td>0</td>\n",
       "    </tr>\n",
       "    <tr>\n",
       "      <th>2</th>\n",
       "      <td>1</td>\n",
       "      <td>3</td>\n",
       "      <td>female</td>\n",
       "      <td>26.0</td>\n",
       "      <td>0</td>\n",
       "      <td>0</td>\n",
       "    </tr>\n",
       "    <tr>\n",
       "      <th>3</th>\n",
       "      <td>1</td>\n",
       "      <td>1</td>\n",
       "      <td>female</td>\n",
       "      <td>35.0</td>\n",
       "      <td>1</td>\n",
       "      <td>0</td>\n",
       "    </tr>\n",
       "    <tr>\n",
       "      <th>4</th>\n",
       "      <td>0</td>\n",
       "      <td>3</td>\n",
       "      <td>male</td>\n",
       "      <td>35.0</td>\n",
       "      <td>0</td>\n",
       "      <td>0</td>\n",
       "    </tr>\n",
       "    <tr>\n",
       "      <th>6</th>\n",
       "      <td>0</td>\n",
       "      <td>1</td>\n",
       "      <td>male</td>\n",
       "      <td>54.0</td>\n",
       "      <td>0</td>\n",
       "      <td>0</td>\n",
       "    </tr>\n",
       "    <tr>\n",
       "      <th>7</th>\n",
       "      <td>0</td>\n",
       "      <td>3</td>\n",
       "      <td>male</td>\n",
       "      <td>2.0</td>\n",
       "      <td>3</td>\n",
       "      <td>1</td>\n",
       "    </tr>\n",
       "    <tr>\n",
       "      <th>8</th>\n",
       "      <td>1</td>\n",
       "      <td>3</td>\n",
       "      <td>female</td>\n",
       "      <td>27.0</td>\n",
       "      <td>0</td>\n",
       "      <td>2</td>\n",
       "    </tr>\n",
       "    <tr>\n",
       "      <th>9</th>\n",
       "      <td>1</td>\n",
       "      <td>2</td>\n",
       "      <td>female</td>\n",
       "      <td>14.0</td>\n",
       "      <td>1</td>\n",
       "      <td>0</td>\n",
       "    </tr>\n",
       "    <tr>\n",
       "      <th>10</th>\n",
       "      <td>1</td>\n",
       "      <td>3</td>\n",
       "      <td>female</td>\n",
       "      <td>4.0</td>\n",
       "      <td>1</td>\n",
       "      <td>1</td>\n",
       "    </tr>\n",
       "  </tbody>\n",
       "</table>\n",
       "</div>"
      ],
      "text/plain": [
       "    Survived  Pclass     Sex   Age  SibSp  Parch\n",
       "0          0       3    male  22.0      1      0\n",
       "1          1       1  female  38.0      1      0\n",
       "2          1       3  female  26.0      0      0\n",
       "3          1       1  female  35.0      1      0\n",
       "4          0       3    male  35.0      0      0\n",
       "6          0       1    male  54.0      0      0\n",
       "7          0       3    male   2.0      3      1\n",
       "8          1       3  female  27.0      0      2\n",
       "9          1       2  female  14.0      1      0\n",
       "10         1       3  female   4.0      1      1"
      ]
     },
     "execution_count": 13,
     "metadata": {},
     "output_type": "execute_result"
    }
   ],
   "source": [
    "# Alumno, inspeccione el dataset, visualice las columnas que posee y sus primeras filas\n",
    "df2.head(10)"
   ]
  },
  {
   "cell_type": "code",
   "execution_count": 14,
   "metadata": {
    "colab": {
     "base_uri": "https://localhost:8080/"
    },
    "executionInfo": {
     "elapsed": 934,
     "status": "ok",
     "timestamp": 1604368902455,
     "user": {
      "displayName": "inove",
      "photoUrl": "https://lh3.googleusercontent.com/a-/AOh14GhXN9lpkKFLA5gp8tW9cD3CZ1yGa9DUy9HZOgZm=s64",
      "userId": "03494171924251581304"
     },
     "user_tz": 180
    },
    "id": "yH6oDykAzBMG",
    "outputId": "b8f82ea9-74e2-460d-9b5c-6bc1be3b9744"
   },
   "outputs": [
    {
     "data": {
      "text/plain": [
       "Survived\n",
       "0    424\n",
       "1    290\n",
       "Name: count, dtype: int64"
      ]
     },
     "execution_count": 14,
     "metadata": {},
     "output_type": "execute_result"
    }
   ],
   "source": [
    "# Alumno: Explorar que tan balanceado está el dataset,\n",
    "# determinar cuantas personas sobrivivieron o nó\n",
    "df2['Survived'].value_counts()"
   ]
  },
  {
   "cell_type": "code",
   "execution_count": 16,
   "metadata": {
    "colab": {
     "base_uri": "https://localhost:8080/",
     "height": 279
    },
    "executionInfo": {
     "elapsed": 811,
     "status": "ok",
     "timestamp": 1604368916208,
     "user": {
      "displayName": "inove",
      "photoUrl": "https://lh3.googleusercontent.com/a-/AOh14GhXN9lpkKFLA5gp8tW9cD3CZ1yGa9DUy9HZOgZm=s64",
      "userId": "03494171924251581304"
     },
     "user_tz": 180
    },
    "id": "uPNDkywTzazk",
    "outputId": "100fec92-1e99-4c73-fde0-55be15f7ee68"
   },
   "outputs": [
    {
     "data": {
      "image/png": "[encoded data removed]",
      "text/plain": [
       "<Figure size 640x480 with 1 Axes>"
      ]
     },
     "metadata": {},
     "output_type": "display_data"
    }
   ],
   "source": [
    "# Alumno: Determinar cuantas personas sobrevivieron\n",
    "# diferenciando por género\n",
    "# Utilice el gráfico de seaborn countplot con hue=\"Sex\"\n",
    "ax = sns.countplot(x=df2['Survived'].replace({0: 'No', 1: 'Si'}), hue=df2['Sex'])"
   ]
  },
  {
   "cell_type": "code",
   "execution_count": 18,
   "metadata": {
    "colab": {
     "base_uri": "https://localhost:8080/",
     "height": 279
    },
    "executionInfo": {
     "elapsed": 762,
     "status": "ok",
     "timestamp": 1604368921965,
     "user": {
      "displayName": "inove",
      "photoUrl": "https://lh3.googleusercontent.com/a-/AOh14GhXN9lpkKFLA5gp8tW9cD3CZ1yGa9DUy9HZOgZm=s64",
      "userId": "03494171924251581304"
     },
     "user_tz": 180
    },
    "id": "WWbxZLQ5ytEP",
    "outputId": "29de7e1b-ab2c-4380-a33f-9ebdaefdbee2"
   },
   "outputs": [
    {
     "data": {
      "image/png": "[encoded data removed]",
      "text/plain": [
       "<Figure size 640x480 with 1 Axes>"
      ]
     },
     "metadata": {},
     "output_type": "display_data"
    }
   ],
   "source": [
    "# Alumno: Determinar cuantas personas había de cada clase\n",
    "# Utilice el gráfico de seaborn countplot\n",
    "ax = sns.countplot(data=df2, x='Pclass')\n",
    "for p in ax.patches:\n",
    "    height = p.get_height()\n",
    "    ax.text(p.get_x() + p.get_width() / 2., height, f'{height}', \n",
    "            ha='center', va='bottom', fontsize=10, color='black')\n",
    "\n",
    "plt.show()"
   ]
  },
  {
   "cell_type": "code",
   "execution_count": 21,
   "metadata": {
    "colab": {
     "base_uri": "https://localhost:8080/",
     "height": 279
    },
    "executionInfo": {
     "elapsed": 779,
     "status": "ok",
     "timestamp": 1604368925000,
     "user": {
      "displayName": "inove",
      "photoUrl": "https://lh3.googleusercontent.com/a-/AOh14GhXN9lpkKFLA5gp8tW9cD3CZ1yGa9DUy9HZOgZm=s64",
      "userId": "03494171924251581304"
     },
     "user_tz": 180
    },
    "id": "aF9zLuKvzAx4",
    "outputId": "b9327ca6-774c-4e8c-dfaf-505b763da2c8"
   },
   "outputs": [
    {
     "data": {
      "image/png": "[encoded data removed]",
      "text/plain": [
       "<Figure size 640x480 with 1 Axes>"
      ]
     },
     "metadata": {},
     "output_type": "display_data"
    }
   ],
   "source": [
    "# Alumno: Determinar cuantas personas había de cada clase\n",
    "# diferenciando por género\n",
    "# Utilice el gráfico de seaborn countplot con hue=\"Sex\"\n",
    "\n",
    "ax = sns.countplot(data=df2, x='Pclass', hue='Sex')\n",
    "for p in ax.patches:\n",
    "    height = p.get_height()\n",
    "    ax.text(p.get_x() + p.get_width() / 2., height, f'{height}', \n",
    "            ha='center', va='bottom', fontsize=10, color='black')\n",
    "\n",
    "plt.show()"
   ]
  },
  {
   "cell_type": "markdown",
   "metadata": {
    "id": "ZdfLMthm0yyY"
   },
   "source": [
    "#### Transformar variables categóricas texto a clases numeradas"
   ]
  },
  {
   "cell_type": "code",
   "execution_count": 22,
   "metadata": {
    "executionInfo": {
     "elapsed": 805,
     "status": "ok",
     "timestamp": 1604369018480,
     "user": {
      "displayName": "inove",
      "photoUrl": "https://lh3.googleusercontent.com/a-/AOh14GhXN9lpkKFLA5gp8tW9cD3CZ1yGa9DUy9HZOgZm=s64",
      "userId": "03494171924251581304"
     },
     "user_tz": 180
    },
    "id": "GJlDmX_F1ksA"
   },
   "outputs": [],
   "source": [
    "from sklearn.preprocessing import LabelEncoder"
   ]
  },
  {
   "cell_type": "code",
   "execution_count": 25,
   "metadata": {
    "executionInfo": {
     "elapsed": 581,
     "status": "ok",
     "timestamp": 1604369019819,
     "user": {
      "displayName": "inove",
      "photoUrl": "https://lh3.googleusercontent.com/a-/AOh14GhXN9lpkKFLA5gp8tW9cD3CZ1yGa9DUy9HZOgZm=s64",
      "userId": "03494171924251581304"
     },
     "user_tz": 180
    },
    "id": "F92KfUW_2CSB"
   },
   "outputs": [],
   "source": [
    "# Alumno, cree un dataset df_cod como copia del que viene trabajando\n",
    "\n",
    "df_cod = df2.copy()"
   ]
  },
  {
   "cell_type": "code",
   "execution_count": 26,
   "metadata": {
    "colab": {
     "base_uri": "https://localhost:8080/",
     "height": 198
    },
    "executionInfo": {
     "elapsed": 734,
     "status": "ok",
     "timestamp": 1604369098453,
     "user": {
      "displayName": "inove",
      "photoUrl": "https://lh3.googleusercontent.com/a-/AOh14GhXN9lpkKFLA5gp8tW9cD3CZ1yGa9DUy9HZOgZm=s64",
      "userId": "03494171924251581304"
     },
     "user_tz": 180
    },
    "id": "Lqa4Qq9dEGzr",
    "outputId": "5889cedb-388e-49a1-dc17-47af1b094821"
   },
   "outputs": [
    {
     "data": {
      "text/html": [
       "<div>\n",
       "<style scoped>\n",
       "    .dataframe tbody tr th:only-of-type {\n",
       "        vertical-align: middle;\n",
       "    }\n",
       "\n",
       "    .dataframe tbody tr th {\n",
       "        vertical-align: top;\n",
       "    }\n",
       "\n",
       "    .dataframe thead th {\n",
       "        text-align: right;\n",
       "    }\n",
       "</style>\n",
       "<table border=\"1\" class=\"dataframe\">\n",
       "  <thead>\n",
       "    <tr style=\"text-align: right;\">\n",
       "      <th></th>\n",
       "      <th>Survived</th>\n",
       "      <th>Pclass</th>\n",
       "      <th>Sex</th>\n",
       "      <th>Age</th>\n",
       "      <th>SibSp</th>\n",
       "      <th>Parch</th>\n",
       "    </tr>\n",
       "  </thead>\n",
       "  <tbody>\n",
       "    <tr>\n",
       "      <th>0</th>\n",
       "      <td>0</td>\n",
       "      <td>3</td>\n",
       "      <td>1</td>\n",
       "      <td>22.0</td>\n",
       "      <td>1</td>\n",
       "      <td>0</td>\n",
       "    </tr>\n",
       "    <tr>\n",
       "      <th>1</th>\n",
       "      <td>1</td>\n",
       "      <td>1</td>\n",
       "      <td>0</td>\n",
       "      <td>38.0</td>\n",
       "      <td>1</td>\n",
       "      <td>0</td>\n",
       "    </tr>\n",
       "    <tr>\n",
       "      <th>2</th>\n",
       "      <td>1</td>\n",
       "      <td>3</td>\n",
       "      <td>0</td>\n",
       "      <td>26.0</td>\n",
       "      <td>0</td>\n",
       "      <td>0</td>\n",
       "    </tr>\n",
       "    <tr>\n",
       "      <th>3</th>\n",
       "      <td>1</td>\n",
       "      <td>1</td>\n",
       "      <td>0</td>\n",
       "      <td>35.0</td>\n",
       "      <td>1</td>\n",
       "      <td>0</td>\n",
       "    </tr>\n",
       "    <tr>\n",
       "      <th>4</th>\n",
       "      <td>0</td>\n",
       "      <td>3</td>\n",
       "      <td>1</td>\n",
       "      <td>35.0</td>\n",
       "      <td>0</td>\n",
       "      <td>0</td>\n",
       "    </tr>\n",
       "  </tbody>\n",
       "</table>\n",
       "</div>"
      ],
      "text/plain": [
       "   Survived  Pclass  Sex   Age  SibSp  Parch\n",
       "0         0       3    1  22.0      1      0\n",
       "1         1       1    0  38.0      1      0\n",
       "2         1       3    0  26.0      0      0\n",
       "3         1       1    0  35.0      1      0\n",
       "4         0       3    1  35.0      0      0"
      ]
     },
     "execution_count": 26,
     "metadata": {},
     "output_type": "execute_result"
    }
   ],
   "source": [
    "# Utiliza el LabelEncoder para codificar la columna Sex, remplazando\n",
    "# esa columna por la nueva en el dataset nuevo que acaba de generar\n",
    "# Recuerde conservar el encoder!\n",
    "le = LabelEncoder()\n",
    "label_encoding = le.fit_transform(df_cod['Sex'])\n",
    "df_cod['Sex'] = label_encoding\n",
    "df_cod.head()"
   ]
  },
  {
   "cell_type": "code",
   "execution_count": 27,
   "metadata": {
    "colab": {
     "base_uri": "https://localhost:8080/"
    },
    "executionInfo": {
     "elapsed": 930,
     "status": "ok",
     "timestamp": 1604369141157,
     "user": {
      "displayName": "inove",
      "photoUrl": "https://lh3.googleusercontent.com/a-/AOh14GhXN9lpkKFLA5gp8tW9cD3CZ1yGa9DUy9HZOgZm=s64",
      "userId": "03494171924251581304"
     },
     "user_tz": 180
    },
    "id": "WNnJf9vG2dad",
    "outputId": "487a5585-dd9e-4270-8f1e-ffc5fea217a6"
   },
   "outputs": [
    {
     "data": {
      "text/plain": [
       "array(['female', 'male'], dtype=object)"
      ]
     },
     "execution_count": 27,
     "metadata": {},
     "output_type": "execute_result"
    }
   ],
   "source": [
    "# Alumno,  imprimir las clases que ha detectado su encoder\n",
    "# (debe llamar al atributo classes_)\n",
    "le.classes_"
   ]
  },
  {
   "cell_type": "markdown",
   "metadata": {
    "id": "7z_SuZlj3gbQ"
   },
   "source": [
    "# Entrenar modelo\n",
    "<img src=\"https://raw.githubusercontent.com/InoveAlumnos/dataset_analytics_python/master/images/Pipeline4.png\" width=\"1000\" align=\"middle\">"
   ]
  },
  {
   "cell_type": "markdown",
   "metadata": {
    "id": "ntY84fHj3q5q"
   },
   "source": [
    "El primer paso es obtener los datos que serán la entrada del sistema (X) y los datos que serán la salida del modelo estimador (y)"
   ]
  },
  {
   "cell_type": "code",
   "execution_count": 28,
   "metadata": {
    "executionInfo": {
     "elapsed": 700,
     "status": "ok",
     "timestamp": 1604369660232,
     "user": {
      "displayName": "inove",
      "photoUrl": "https://lh3.googleusercontent.com/a-/AOh14GhXN9lpkKFLA5gp8tW9cD3CZ1yGa9DUy9HZOgZm=s64",
      "userId": "03494171924251581304"
     },
     "user_tz": 180
    },
    "id": "EIg2_OQ43fqZ"
   },
   "outputs": [],
   "source": [
    "# Alumno, genere un numpy array \"X\" que posea todos los feutres (todo menos Survived)\n",
    "# genere un array numpy \"y\" de solo la columna Survived\n",
    "X = df_cod.drop('Survived', axis=1).values\n",
    "y = df_cod['Survived'].values"
   ]
  },
  {
   "cell_type": "markdown",
   "metadata": {
    "id": "sbr-SnON4LuM"
   },
   "source": [
    "Siguiente paso es dividir el dataset en entrenamiento (train) y evaluación (test). Utilizaremos el criterio 70%30%"
   ]
  },
  {
   "cell_type": "code",
   "execution_count": 29,
   "metadata": {
    "executionInfo": {
     "elapsed": 723,
     "status": "ok",
     "timestamp": 1604369237702,
     "user": {
      "displayName": "inove",
      "photoUrl": "https://lh3.googleusercontent.com/a-/AOh14GhXN9lpkKFLA5gp8tW9cD3CZ1yGa9DUy9HZOgZm=s64",
      "userId": "03494171924251581304"
     },
     "user_tz": 180
    },
    "id": "BVD4YkjS4MW2"
   },
   "outputs": [],
   "source": [
    "# Alumno, generar los dataset de train y test superando en 70%30%\n",
    "from sklearn.model_selection import train_test_split\n",
    "X_train, X_test, y_train, y_test = train_test_split(X, y, test_size=0.3, random_state=42)"
   ]
  },
  {
   "cell_type": "code",
   "execution_count": 38,
   "metadata": {
    "executionInfo": {
     "elapsed": 1035,
     "status": "ok",
     "timestamp": 1604369279650,
     "user": {
      "displayName": "inove",
      "photoUrl": "https://lh3.googleusercontent.com/a-/AOh14GhXN9lpkKFLA5gp8tW9cD3CZ1yGa9DUy9HZOgZm=s64",
      "userId": "03494171924251581304"
     },
     "user_tz": 180
    },
    "id": "ZRw2jgPl4Xuc"
   },
   "outputs": [],
   "source": [
    "# Alumno, entrene un clasificador cualquier sea con los datos de train\n",
    "# Genere las predicciones y_hat con el dataset de test\n",
    "\n",
    "from sklearn.neighbors import KNeighborsClassifier\n",
    "clf = KNeighborsClassifier(n_neighbors=5)\n",
    "clf.fit(X_train, y_train)\n",
    "y_hat = clf.predict(X_test)"
   ]
  },
  {
   "cell_type": "markdown",
   "metadata": {
    "id": "w3IfjUuI4XnD"
   },
   "source": [
    "# Validar modelo\n",
    "<img src=\"https://raw.githubusercontent.com/InoveAlumnos/dataset_analytics_python/master/images/Pipeline5.png\" width=\"1000\" align=\"middle\">"
   ]
  },
  {
   "cell_type": "code",
   "execution_count": 39,
   "metadata": {
    "colab": {
     "base_uri": "https://localhost:8080/"
    },
    "executionInfo": {
     "elapsed": 882,
     "status": "ok",
     "timestamp": 1604369302483,
     "user": {
      "displayName": "inove",
      "photoUrl": "https://lh3.googleusercontent.com/a-/AOh14GhXN9lpkKFLA5gp8tW9cD3CZ1yGa9DUy9HZOgZm=s64",
      "userId": "03494171924251581304"
     },
     "user_tz": 180
    },
    "id": "CMKONtv55zL8",
    "outputId": "1e06bcca-8b75-4fc2-f7b3-51112b2ac845"
   },
   "outputs": [
    {
     "data": {
      "text/plain": [
       "0.7395348837209302"
      ]
     },
     "execution_count": 39,
     "metadata": {},
     "output_type": "execute_result"
    }
   ],
   "source": [
    "# Alumno, calcular la exactitud (accuracy) de su clasificador\n",
    "# Debe superar el modelo base (50%)\n",
    "from sklearn.metrics import accuracy_score\n",
    "accuracy_score(y_test, y_hat, normalize=True)"
   ]
  },
  {
   "cell_type": "code",
   "execution_count": 45,
   "metadata": {
    "colab": {
     "base_uri": "https://localhost:8080/",
     "height": 279
    },
    "executionInfo": {
     "elapsed": 748,
     "status": "ok",
     "timestamp": 1604369312974,
     "user": {
      "displayName": "inove",
      "photoUrl": "https://lh3.googleusercontent.com/a-/AOh14GhXN9lpkKFLA5gp8tW9cD3CZ1yGa9DUy9HZOgZm=s64",
      "userId": "03494171924251581304"
     },
     "user_tz": 180
    },
    "id": "TeLeYLYz6ZhO",
    "outputId": "13652b92-4e30-4d75-c66d-92ad7f7ef7a4"
   },
   "outputs": [
    {
     "data": {
      "image/png": "[encoded data removed]",
      "text/plain": [
       "<Figure size 640x480 with 2 Axes>"
      ]
     },
     "metadata": {},
     "output_type": "display_data"
    }
   ],
   "source": [
    "# Alumno, dibujar la matriz de confusion\n",
    "from sklearn.metrics import confusion_matrix, ConfusionMatrixDisplay\n",
    "cm = confusion_matrix(y_test, y_hat)\n",
    "cmd = ConfusionMatrixDisplay(cm, display_labels=clf.classes_)\n",
    "cmd.plot(cmap=plt.cm.Greens)\n",
    "plt.show()"
   ]
  },
  {
   "cell_type": "markdown",
   "metadata": {
    "id": "9dZxGbjG96jR"
   },
   "source": [
    "# Utilizar modelo\n",
    "<img src=\"https://raw.githubusercontent.com/InoveAlumnos/dataset_analytics_python/master/images/Pipeline6.png\" width=\"1000\" align=\"middle\">"
   ]
  },
  {
   "cell_type": "code",
   "execution_count": 41,
   "metadata": {
    "colab": {
     "base_uri": "https://localhost:8080/"
    },
    "executionInfo": {
     "elapsed": 716,
     "status": "ok",
     "timestamp": 1604369732075,
     "user": {
      "displayName": "inove",
      "photoUrl": "https://lh3.googleusercontent.com/a-/AOh14GhXN9lpkKFLA5gp8tW9cD3CZ1yGa9DUy9HZOgZm=s64",
      "userId": "03494171924251581304"
     },
     "user_tz": 180
    },
    "id": "7YH0C6473i5f",
    "outputId": "5022e476-784d-4c1c-ff0e-d97145f8f503"
   },
   "outputs": [
    {
     "name": "stdout",
     "output_type": "stream",
     "text": [
      "Sobrevivi!\n"
     ]
    }
   ],
   "source": [
    "# Alumno, pona a prueba el modelo, ingrese datos ficticios y divertase un rato :)\n",
    "# Recordar que los datos de genero (Sex) ahora son numéricos para el modelo (0 o 1)\n",
    "# Debe utilizar el encoder que se generó antes para convertir los nuevos valores\n",
    "Pclass = 1\n",
    "Sex = 'male'\n",
    "Age = 6\n",
    "SibSp = 2\n",
    "Parch = 0\n",
    "\n",
    "# Casteamos el array que devuelve le.transform a int\n",
    "sex_encoded = int(le.transform([Sex]))\n",
    "# Crear el array de entrada\n",
    "X_prueba = np.array([Pclass, sex_encoded, Age, SibSp, Parch])\n",
    "# El sistema espera 1 fila y N columnas, hay que hacer reshape\n",
    "X_prueba = X_prueba.reshape(1, -1)\n",
    "y_prueba = clf.predict(X_prueba)\n",
    "\n",
    "if y_prueba == 1:\n",
    "    print('Sobrevivi!')\n",
    "else:\n",
    "    print('Game Over')"
   ]
  }
 ],
 "metadata": {
  "colab": {
   "authorship_tag": "ABX9TyPmwP4ggYY37mAJpJ4efbJ4",
   "collapsed_sections": [],
   "name": "2_titanic.ipynb",
   "provenance": [],
   "toc_visible": true
  },
  "kernelspec": {
   "display_name": "Python 3",
   "language": "python",
   "name": "python3"
  },
  "language_info": {
   "codemirror_mode": {
    "name": "ipython",
    "version": 3
   },
   "file_extension": ".py",
   "mimetype": "text/x-python",
   "name": "python",
   "nbconvert_exporter": "python",
   "pygments_lexer": "ipython3",
   "version": "3.11.3"
  }
 },
 "nbformat": 4,
 "nbformat_minor": 4
}
